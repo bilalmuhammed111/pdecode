{
  "nbformat": 4,
  "nbformat_minor": 0,
  "metadata": {
    "colab": {
      "provenance": [],
      "authorship_tag": "ABX9TyOn2/8jbsZWdkXHX6r+5VF2",
      "include_colab_link": true
    },
    "kernelspec": {
      "name": "python3",
      "display_name": "Python 3"
    },
    "language_info": {
      "name": "python"
    }
  },
  "cells": [
    {
      "cell_type": "markdown",
      "metadata": {
        "id": "view-in-github",
        "colab_type": "text"
      },
      "source": [
        "<a href=\"https://colab.research.google.com/github/bilalmuhammed111/pdecode/blob/main/Experiment_3.ipynb\" target=\"_parent\"><img src=\"https://colab.research.google.com/assets/colab-badge.svg\" alt=\"Open In Colab\"/></a>"
      ]
    },
    {
      "cell_type": "markdown",
      "source": [
        "## Experiment 3: Solving the 1D Heat Equation\n",
        "This experiment introduces the numerical solution of a parabolic partial differential equation: the one-dimensional heat equation. This equation is fundamental to understanding diffusion processes, not just in heat transfer but also in chemical concentration gradients and other physical phenomena.\n",
        "\n",
        "**3.5.1 Aim**\n",
        "To solve the one-dimensional heat conduction equation using the Finite Difference Method (explicit scheme) in Python and to visualize the temperature distribution over time.\n",
        "\n",
        "**3.5.2 Objectives**\n",
        "- To understand the physical interpretation of the one-dimensional heat equation.\n",
        "- To discretize the heat equation using the Forward Time Centred Space (FTCS) scheme.\n",
        "- To implement the finite difference method in Python.\n",
        "- To analyze the stability condition required for this numerical method.\n",
        "- To visualize the temperature profiles at different time levels.\n",
        "\n",
        "\n",
        "##3.5.3 Governing Equation and Discretization\n",
        "The one-dimensional heat equation describes how temperature u evolves at a position x and time t. It is given by:\n",
        "\n",
        "$\\frac{\\partial u}{\\partial t} = \\alpha \\frac{\\partial^2 u}{\\partial x^2}$\n",
        "\n",
        "where $\\alpha$\n",
        " is the thermal diffusivity of the material, a constant that indicates how quickly the material conducts heat.\n",
        ""
      ],
      "metadata": {
        "id": "aDTHyD174EhP"
      }
    }
  ]
}